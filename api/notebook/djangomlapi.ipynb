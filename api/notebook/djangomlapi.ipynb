{
 "cells": [
  {
   "cell_type": "code",
   "execution_count": 1,
   "id": "810f60cf",
   "metadata": {},
   "outputs": [],
   "source": [
    "data = [\n",
    "    ['Honk', 1],\n",
    "    ['Woof', 0],\n",
    "    ['ruff', 0],\n",
    "    ['bowwow', 0],\n",
    "    ['cackle', 1],\n",
    "    ['moo', 0],\n",
    "    ['meow', 0],\n",
    "    ['clang', 1],\n",
    "    ['buzz', 0],\n",
    "    ['quack', 0],\n",
    "    ['pika', 0]\n",
    "]"
   ]
  },
  {
   "cell_type": "code",
   "execution_count": 2,
   "id": "4079f210",
   "metadata": {},
   "outputs": [],
   "source": [
    "X = []\n",
    "y = []\n",
    "for i in data:\n",
    "    X.append( i[0] )\n",
    "    y.append( i[1] )"
   ]
  },
  {
   "cell_type": "code",
   "execution_count": 5,
   "id": "82205909",
   "metadata": {},
   "outputs": [],
   "source": [
    "from sklearn.feature_extraction.text import CountVectorizer\n",
    "from sklearn.linear_model import LinearRegression\n",
    "import numpy as np"
   ]
  },
  {
   "cell_type": "code",
   "execution_count": 6,
   "id": "28deadb2",
   "metadata": {},
   "outputs": [
    {
     "data": {
      "text/plain": [
       "LinearRegression()"
      ]
     },
     "execution_count": 6,
     "metadata": {},
     "output_type": "execute_result"
    }
   ],
   "source": [
    "vectorize = CountVectorizer()\n",
    "X_vectorized = vectorize.fit_transform(X)\n",
    "\n",
    "regressor = LinearRegression()\n",
    "regressor.fit(X_vectorized, y)"
   ]
  },
  {
   "cell_type": "code",
   "execution_count": 9,
   "id": "cd21e8fc",
   "metadata": {},
   "outputs": [
    {
     "name": "stdout",
     "output_type": "stream",
     "text": [
      "[1.]\n",
      "[-1.11022302e-16]\n",
      "[0.27272727]\n"
     ]
    }
   ],
   "source": [
    "test_feature = vectorize.transform(['Honk'])\n",
    "prediction = regressor.predict(test_feature)\n",
    "print(prediction)\n",
    "test_feature = vectorize.transform(['bowwow'])\n",
    "prediction = regressor.predict(test_feature)\n",
    "print(prediction) \n",
    "test_feature = vectorize.transform(['meoww'])\n",
    "prediction = regressor.predict(test_feature)\n",
    "print(prediction)"
   ]
  },
  {
   "cell_type": "code",
   "execution_count": 10,
   "id": "80bb0d79",
   "metadata": {},
   "outputs": [],
   "source": [
    "import pickle\n",
    "pick = {\n",
    "    'vectorize': vectorize,\n",
    "    'regressor': regressor\n",
    "}\n",
    "pickle.dump( pick, open( 'models' + \".p\", \"wb\" ) )"
   ]
  },
  {
   "cell_type": "code",
   "execution_count": null,
   "id": "6264b0b4",
   "metadata": {},
   "outputs": [],
   "source": []
  }
 ],
 "metadata": {
  "kernelspec": {
   "display_name": "Python 3",
   "language": "python",
   "name": "python3"
  },
  "language_info": {
   "codemirror_mode": {
    "name": "ipython",
    "version": 3
   },
   "file_extension": ".py",
   "mimetype": "text/x-python",
   "name": "python",
   "nbconvert_exporter": "python",
   "pygments_lexer": "ipython3",
   "version": "3.8.8"
  }
 },
 "nbformat": 4,
 "nbformat_minor": 5
}
